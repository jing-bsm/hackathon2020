{
 "cells": [
  {
   "cell_type": "code",
   "execution_count": null,
   "metadata": {},
   "outputs": [],
   "source": [
    "# 95% categories, less layers"
   ]
  },
  {
   "cell_type": "code",
   "execution_count": null,
   "metadata": {},
   "outputs": [],
   "source": [
    "#docker run -it --rm -v c:/workspace/jupyter:/tf -p 8888:8888 tensorflow/tensorflow:latest-gpu-jupyter\n",
    "#2021-01-05\n",
    "#!pip install pandas\n",
    "#!pip install tensorflow_hub\n",
    "#!pip install tensorflow_text\n",
    "#!pip install tensorflowjs"
   ]
  },
  {
   "cell_type": "code",
   "execution_count": 1,
   "metadata": {},
   "outputs": [],
   "source": [
    "import os\n",
    "import numpy as np\n",
    "import pandas as pd\n",
    "import tensorflow as tf\n",
    "\n",
    "np.set_printoptions(precision=3, suppress=True) # easy to read read only\n",
    "\n",
    "from tensorflow.keras import Model, Sequential\n",
    "from tensorflow.keras.layers import Activation, Dense, Embedding, GlobalAveragePooling1D\n",
    "from tensorflow.keras.layers.experimental.preprocessing import TextVectorization\n",
    "import tensorflow_hub as hub\n",
    "import matplotlib.pyplot as plt\n",
    "import json\n",
    "import re"
   ]
  },
  {
   "cell_type": "code",
   "execution_count": 2,
   "metadata": {},
   "outputs": [
    {
     "name": "stdout",
     "output_type": "stream",
     "text": [
      "Version:  2.4.0\n"
     ]
    }
   ],
   "source": [
    "print(\"Version: \", tf.__version__)\n",
    "raw_data = pd.read_csv('../data/S_SURVEY_FULL.csv')\n",
    "# raw_data.head()\n",
    "\n"
   ]
  },
  {
   "cell_type": "code",
   "execution_count": 3,
   "metadata": {},
   "outputs": [
    {
     "name": "stdout",
     "output_type": "stream",
     "text": [
      "(2543,) 46\n"
     ]
    }
   ],
   "source": [
    "# features / labels / Y\n",
    "_cat_list = list()\n",
    "_min_num = len(raw_data) * .05\n",
    "\n",
    "for c in list(raw_data.columns)[1:(len(raw_data.columns)-1)]:\n",
    "    if(raw_data[[c]].sum().tolist()[0] > _min_num):\n",
    "        _cat_list.append(c)\n",
    "expect = raw_data.loc[:, _cat_list]\n",
    "Y = np.array(expect)\n",
    "feature = np.array(raw_data.loc[:,['JSON']]).reshape(-1)\n",
    "print(feature.shape,len(_cat_list))"
   ]
  },
  {
   "cell_type": "code",
   "execution_count": 4,
   "metadata": {},
   "outputs": [
    {
     "name": "stdout",
     "output_type": "stream",
     "text": [
      "(400,) 400\n",
      "(2543,) (2543, 46)\n"
     ]
    }
   ],
   "source": [
    "# train / text / X\n",
    "VOCAB_SIZE=400\n",
    "encoder = tf.keras.layers.experimental.preprocessing.TextVectorization(\n",
    "    max_tokens=VOCAB_SIZE)\n",
    "ff = np.array([re.sub('[^0-9a-zA-Z_\\\\.]+', ' ', xx) for xx in feature])\n",
    "encoder.adapt(ff)\n",
    "print(np.array(encoder.get_vocabulary()).shape, len(encoder.get_vocabulary()))\n",
    "print(ff.shape,Y.shape)"
   ]
  },
  {
   "cell_type": "code",
   "execution_count": 5,
   "metadata": {},
   "outputs": [
    {
     "name": "stdout",
     "output_type": "stream",
     "text": [
      "5/5 [==============================] - 3s 477ms/step - loss: 0.6901 - accuracy: 0.1618 - val_loss: 0.6803 - val_accuracy: 0.0000e+00\n"
     ]
    }
   ],
   "source": [
    "output_den = len(Y[0]);\n",
    "\n",
    "model = tf.keras.Sequential()\n",
    "model.add(encoder)\n",
    "\n",
    "model.add(tf.keras.layers.Embedding(input_dim=len(encoder.get_vocabulary()),mask_zero=True,\n",
    "                                    output_dim=16))\n",
    "# model.add(tf.keras.layers.LSTM(64))\n",
    "\n",
    "model.add(tf.keras.layers.Dense(256, activation='relu'))\n",
    "\n",
    "# model.add(tf.keras.layers.Dropout(0.2))\n",
    "\n",
    "model.add(tf.keras.layers.Dense(128, activation='tanh'))\n",
    "model.add(tf.keras.layers.GlobalAveragePooling1D())\n",
    "model.add(tf.keras.layers.Dense(output_den, activation='sigmoid'))\n",
    "\n",
    "\n",
    "# # model.summary()\n",
    "model.compile(optimizer='adam',\n",
    "              loss=tf.keras.losses.BinaryCrossentropy(from_logits=True),\n",
    "              metrics=['accuracy'])\n",
    "\n",
    "history = model.fit(x=ff,y=Y,\n",
    "                    epochs=1,batch_size=512,\n",
    "                    validation_split=0.01,\n",
    "                     verbose=1,\n",
    "#                      callbacks=[cp_callback],\n",
    "                    use_multiprocessing=True\n",
    "                   )"
   ]
  },
  {
   "cell_type": "code",
   "execution_count": null,
   "metadata": {},
   "outputs": [],
   "source": [
    "model.compile(optimizer='adam',\n",
    "              loss=tf.keras.losses.BinaryCrossentropy(from_logits=True),\n",
    "              metrics=['accuracy'])\n",
    "\n",
    "history = model.fit(x=ff,y=Y,\n",
    "                    epochs=1,batch_size=512,\n",
    "                    validation_split=0.01,\n",
    "                     verbose=1,\n",
    "#                      callbacks=[cp_callback],\n",
    "                    use_multiprocessing=True\n",
    "                   )"
   ]
  },
  {
   "cell_type": "code",
   "execution_count": 7,
   "metadata": {},
   "outputs": [],
   "source": [
    "checkpoint_path = \"../checkpoint/survey_short_full_v2.ckpt\"\n",
    "\n",
    "# Create a callback that saves the model's weights\n",
    "cp_callback = tf.keras.callbacks.ModelCheckpoint(filepath=checkpoint_path,\n",
    "                                                 save_weights_only=True,\n",
    "                                                 verbose=0)\n",
    "\n",
    "def plotHistory(history):\n",
    "    plt.plot(history.history['accuracy'])\n",
    "    plt.plot(history.history['val_accuracy'])\n",
    "    plt.title('model accuracy')\n",
    "    plt.ylabel('accuracy')\n",
    "    plt.xlabel('epoch')\n",
    "    plt.legend(['train', 'test'], loc='upper left')\n",
    "    plt.show()\n",
    "    # summarize history for loss\n",
    "    plt.plot(history.history['loss'])\n",
    "    plt.plot(history.history['val_loss'])\n",
    "    plt.title('model loss')\n",
    "    plt.ylabel('loss')\n",
    "    plt.xlabel('epoch')\n",
    "    plt.legend(['train', 'test'], loc='upper left')\n",
    "    plt.show()"
   ]
  },
  {
   "cell_type": "code",
   "execution_count": null,
   "metadata": {
    "scrolled": true
   },
   "outputs": [],
   "source": [
    "history = model.fit(x=ff,y=Y,\n",
    "                    epochs=1,batch_size=512,\n",
    "                    validation_split=0.1,\n",
    "                     verbose=1,\n",
    "                     callbacks=[cp_callback],\n",
    "                    use_multiprocessing=True\n",
    "                   )\n",
    "\n",
    "# plotHistory(history)"
   ]
  },
  {
   "cell_type": "code",
   "execution_count": null,
   "metadata": {
    "scrolled": true
   },
   "outputs": [],
   "source": [
    "history = model.fit(x=ff,y=Y,\n",
    "                    epochs=2000,batch_size=512,\n",
    "                    validation_split=0.1,\n",
    "                     verbose=1,\n",
    "#                      callbacks=[cp_callback],\n",
    "                    use_multiprocessing=True\n",
    "                   )"
   ]
  },
  {
   "cell_type": "code",
   "execution_count": 9,
   "metadata": {},
   "outputs": [
    {
     "name": "stdout",
     "output_type": "stream",
     "text": [
      "80/80 [==============================] - 0s 6ms/step - loss: 0.1132 - accuracy: 0.1066\n"
     ]
    },
    {
     "data": {
      "image/png": "[encoded data removed]",
      "text/plain": [
       "<Figure size 432x288 with 1 Axes>"
      ]
     },
     "metadata": {
      "needs_background": "light"
     },
     "output_type": "display_data"
    },
    {
     "data": {
      "image/png": "[encoded data removed]",
      "text/plain": [
       "<Figure size 432x288 with 1 Axes>"
      ]
     },
     "metadata": {
      "needs_background": "light"
     },
     "output_type": "display_data"
    }
   ],
   "source": [
    "model.evaluate(ff,Y)\n",
    "plotHistory(history)"
   ]
  },
  {
   "cell_type": "code",
   "execution_count": 8,
   "metadata": {},
   "outputs": [
    {
     "data": {
      "text/plain": [
       "<tensorflow.python.training.tracking.util.CheckpointLoadStatus at 0x7f74c4645208>"
      ]
     },
     "execution_count": 8,
     "metadata": {},
     "output_type": "execute_result"
    }
   ],
   "source": [
    "model.load_weights(checkpoint_path)\n",
    "# model.save_weights(checkpoint_path)\n"
   ]
  },
  {
   "cell_type": "code",
   "execution_count": 10,
   "metadata": {},
   "outputs": [
    {
     "name": "stdout",
     "output_type": "stream",
     "text": [
      "5313 2543 2.0892646480534802 0.04541879669681479\n",
      "0.045418796696814784\n"
     ]
    }
   ],
   "source": [
    "all_predict=model.predict(ff[:])\n",
    "error_matrix=(np.absolute(Y - all_predict) > .5).astype(int)\n",
    "_total = error_matrix.sum()\n",
    "print(_total, len(Y), _total / len(Y), _total / len(Y) / len(Y[0]))\n",
    "print(np.average(error_matrix.sum(axis=1) / len(Y[0])))"
   ]
  },
  {
   "cell_type": "code",
   "execution_count": null,
   "metadata": {},
   "outputs": [],
   "source": [
    "full_expect = raw_data[raw_data.columns[1:(len(raw_data.columns)-1)]]\n",
    "np_pred = (all_predict > 0.5).astype(int)\n",
    "full_predict = full_expect.copy()\n",
    "for idx, name in enumerate (_cat_list) :\n",
    "    full_predict[name] = np_pred[:,idx]\n",
    "full_predict = full_predict[full_expect.columns]\n",
    "full_error=np.absolute(np.array(full_expect) - np.array(full_predict))\n",
    "_total = full_error.sum()\n",
    "print('Wrong:', _total, len(full_error), 'Wrong in row:', _total / len(full_error), _total / len(full_error) / len(full_error[0]))"
   ]
  },
  {
   "cell_type": "code",
   "execution_count": null,
   "metadata": {},
   "outputs": [],
   "source": [
    "import tensorflowjs as tfjs\n",
    "\n",
    "tfjs.converters.save_keras_model(model, '../checkpoint/js')"
   ]
  }
 ],
 "metadata": {
  "kernelspec": {
   "display_name": "Python 3",
   "language": "python",
   "name": "python3"
  },
  "language_info": {
   "codemirror_mode": {
    "name": "ipython",
    "version": 3
   },
   "file_extension": ".py",
   "mimetype": "text/x-python",
   "name": "python",
   "nbconvert_exporter": "python",
   "pygments_lexer": "ipython3",
   "version": "3.6.9"
  }
 },
 "nbformat": 4,
 "nbformat_minor": 2
}
