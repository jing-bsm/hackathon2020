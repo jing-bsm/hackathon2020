{
 "cells": [
  {
   "cell_type": "code",
   "execution_count": null,
   "metadata": {},
   "outputs": [],
   "source": [
    "# 95% categories, less layers"
   ]
  },
  {
   "cell_type": "code",
   "execution_count": null,
   "metadata": {},
   "outputs": [],
   "source": [
    "#docker run -it --rm -v c:/workspace/jupyter:/tf -p 8888:8888 tensorflow/tensorflow:latest-gpu-jupyter\n",
    "#2021-01-05\n",
    "#!pip install pandas\n",
    "#!pip install tensorflow_hub\n",
    "#!pip install tensorflow_text\n",
    "#!pip install tensorflowjs"
   ]
  },
  {
   "cell_type": "code",
   "execution_count": 1,
   "metadata": {},
   "outputs": [],
   "source": [
    "import os\n",
    "import numpy as np\n",
    "import pandas as pd\n",
    "import tensorflow as tf\n",
    "\n",
    "np.set_printoptions(precision=3, suppress=True) # easy to read read only\n",
    "\n",
    "from tensorflow.keras import Model, Sequential\n",
    "from tensorflow.keras.layers import Activation, Dense, Embedding, GlobalAveragePooling1D\n",
    "from tensorflow.keras.layers.experimental.preprocessing import TextVectorization\n",
    "import tensorflow_hub as hub\n",
    "import matplotlib.pyplot as plt\n",
    "import json\n",
    "import re"
   ]
  },
  {
   "cell_type": "code",
   "execution_count": 3,
   "metadata": {},
   "outputs": [
    {
     "name": "stdout",
     "output_type": "stream",
     "text": [
      "Version:  2.4.0\n"
     ]
    }
   ],
   "source": [
    "print(\"Version: \", tf.__version__)\n",
    "raw_data = pd.read_csv('data/S_SURVEY_FULL.csv')\n",
    "# raw_data.head()\n",
    "\n"
   ]
  },
  {
   "cell_type": "code",
   "execution_count": 4,
   "metadata": {},
   "outputs": [
    {
     "name": "stdout",
     "output_type": "stream",
     "text": [
      "(2543,) 46\n"
     ]
    }
   ],
   "source": [
    "# features / labels / Y\n",
    "_cat_list = list()\n",
    "_min_num = len(raw_data) * .05\n",
    "\n",
    "for c in list(raw_data.columns)[1:(len(raw_data.columns)-1)]:\n",
    "    if(raw_data[[c]].sum().tolist()[0] > _min_num):\n",
    "        _cat_list.append(c)\n",
    "expect = raw_data.loc[:, _cat_list]\n",
    "Y = np.array(expect)\n",
    "feature = np.array(raw_data.loc[:,['JSON']]).reshape(-1)\n",
    "print(feature.shape,len(_cat_list))"
   ]
  },
  {
   "cell_type": "code",
   "execution_count": 5,
   "metadata": {},
   "outputs": [
    {
     "name": "stdout",
     "output_type": "stream",
     "text": [
      "(400,) 400\n",
      "(2543,) (2543, 46)\n"
     ]
    }
   ],
   "source": [
    "# train / text / X\n",
    "VOCAB_SIZE=400\n",
    "encoder = tf.keras.layers.experimental.preprocessing.TextVectorization(\n",
    "    max_tokens=VOCAB_SIZE)\n",
    "ff = np.array([re.sub('[^0-9a-zA-Z_\\\\.]+', ' ', xx) for xx in feature])\n",
    "encoder.adapt(ff)\n",
    "print(np.array(encoder.get_vocabulary()).shape, len(encoder.get_vocabulary()))\n",
    "print(ff.shape,Y.shape)"
   ]
  },
  {
   "cell_type": "code",
   "execution_count": 6,
   "metadata": {},
   "outputs": [
    {
     "name": "stdout",
     "output_type": "stream",
     "text": [
      "5/5 [==============================] - 3s 346ms/step - loss: 0.6902 - accuracy: 0.0082 - val_loss: 0.6803 - val_accuracy: 0.0000e+00\n"
     ]
    }
   ],
   "source": [
    "output_den = len(Y[0]);\n",
    "\n",
    "model = tf.keras.Sequential()\n",
    "model.add(encoder)\n",
    "\n",
    "model.add(tf.keras.layers.Embedding(input_dim=len(encoder.get_vocabulary()),mask_zero=True,\n",
    "                                    output_dim=16))\n",
    "# model.add(tf.keras.layers.LSTM(64))\n",
    "\n",
    "model.add(tf.keras.layers.Dense(256, activation='relu'))\n",
    "\n",
    "# model.add(tf.keras.layers.Dropout(0.2))\n",
    "\n",
    "model.add(tf.keras.layers.Dense(128, activation='tanh'))\n",
    "model.add(tf.keras.layers.GlobalAveragePooling1D())\n",
    "model.add(tf.keras.layers.Dense(output_den, activation='sigmoid'))\n",
    "\n",
    "\n",
    "# # model.summary()\n",
    "model.compile(optimizer='adam',\n",
    "              loss=tf.keras.losses.BinaryCrossentropy(from_logits=True),\n",
    "              metrics=['accuracy'])\n",
    "\n",
    "history = model.fit(x=ff,y=Y,\n",
    "                    epochs=1,batch_size=512,\n",
    "                    validation_split=0.01,\n",
    "                     verbose=1,\n",
    "#                      callbacks=[cp_callback],\n",
    "                    use_multiprocessing=True\n",
    "                   )"
   ]
  },
  {
   "cell_type": "code",
   "execution_count": 7,
   "metadata": {},
   "outputs": [
    {
     "name": "stdout",
     "output_type": "stream",
     "text": [
      "5/5 [==============================] - 2s 301ms/step - loss: 0.6744 - accuracy: 0.0231 - val_loss: 0.6572 - val_accuracy: 0.0000e+00\n"
     ]
    }
   ],
   "source": [
    "model.compile(optimizer='adam',\n",
    "              loss=tf.keras.losses.BinaryCrossentropy(from_logits=True),\n",
    "              metrics=['accuracy'])\n",
    "\n",
    "history = model.fit(x=ff,y=Y,\n",
    "                    epochs=1,batch_size=512,\n",
    "                    validation_split=0.01,\n",
    "                     verbose=1,\n",
    "#                      callbacks=[cp_callback],\n",
    "                    use_multiprocessing=True\n",
    "                   )"
   ]
  },
  {
   "cell_type": "code",
   "execution_count": 8,
   "metadata": {},
   "outputs": [],
   "source": [
    "checkpoint_path = \"../checkpoint/survey_short_full_v2.ckpt\"\n",
    "\n",
    "# Create a callback that saves the model's weights\n",
    "cp_callback = tf.keras.callbacks.ModelCheckpoint(filepath=checkpoint_path,\n",
    "                                                 save_weights_only=True,\n",
    "                                                 verbose=0)\n",
    "\n",
    "def plotHistory(history):\n",
    "    plt.plot(history.history['accuracy'])\n",
    "    plt.plot(history.history['val_accuracy'])\n",
    "    plt.title('model accuracy')\n",
    "    plt.ylabel('accuracy')\n",
    "    plt.xlabel('epoch')\n",
    "    plt.legend(['train', 'test'], loc='upper left')\n",
    "    plt.show()\n",
    "    # summarize history for loss\n",
    "    plt.plot(history.history['loss'])\n",
    "    plt.plot(history.history['val_loss'])\n",
    "    plt.title('model loss')\n",
    "    plt.ylabel('loss')\n",
    "    plt.xlabel('epoch')\n",
    "    plt.legend(['train', 'test'], loc='upper left')\n",
    "    plt.show()"
   ]
  },
  {
   "cell_type": "code",
   "execution_count": 9,
   "metadata": {
    "scrolled": true
   },
   "outputs": [
    {
     "name": "stdout",
     "output_type": "stream",
     "text": [
      "Epoch 1/70\n",
      "5/5 [==============================] - 1s 231ms/step - loss: 0.6399 - accuracy: 0.0262 - val_loss: 0.6193 - val_accuracy: 0.0000e+00\n",
      "Epoch 2/70\n",
      "5/5 [==============================] - 1s 225ms/step - loss: 0.5870 - accuracy: 0.0262 - val_loss: 0.5629 - val_accuracy: 0.0000e+00\n",
      "Epoch 3/70\n",
      "5/5 [==============================] - 1s 211ms/step - loss: 0.5117 - accuracy: 0.0262 - val_loss: 0.4985 - val_accuracy: 0.0000e+00\n",
      "Epoch 4/70\n",
      "5/5 [==============================] - 1s 199ms/step - loss: 0.4294 - accuracy: 0.0262 - val_loss: 0.4599 - val_accuracy: 0.0000e+00\n",
      "Epoch 5/70\n",
      "5/5 [==============================] - 1s 219ms/step - loss: 0.3766 - accuracy: 0.0262 - val_loss: 0.4768 - val_accuracy: 0.0000e+00\n",
      "Epoch 6/70\n",
      "5/5 [==============================] - 1s 224ms/step - loss: 0.3669 - accuracy: 0.0262 - val_loss: 0.5091 - val_accuracy: 0.0000e+00\n",
      "Epoch 7/70\n",
      "5/5 [==============================] - 1s 234ms/step - loss: 0.3665 - accuracy: 0.0262 - val_loss: 0.5124 - val_accuracy: 0.0000e+00\n",
      "Epoch 8/70\n",
      "5/5 [==============================] - 1s 203ms/step - loss: 0.3593 - accuracy: 0.0262 - val_loss: 0.5002 - val_accuracy: 0.0000e+00\n",
      "Epoch 9/70\n",
      "5/5 [==============================] - 1s 221ms/step - loss: 0.3537 - accuracy: 0.0262 - val_loss: 0.4920 - val_accuracy: 0.0000e+00\n",
      "Epoch 10/70\n",
      "5/5 [==============================] - 1s 228ms/step - loss: 0.3525 - accuracy: 0.0262 - val_loss: 0.4897 - val_accuracy: 0.0000e+00\n",
      "Epoch 11/70\n",
      "5/5 [==============================] - 1s 233ms/step - loss: 0.3524 - accuracy: 0.0262 - val_loss: 0.4891 - val_accuracy: 0.0000e+00\n",
      "Epoch 12/70\n",
      "5/5 [==============================] - 1s 202ms/step - loss: 0.3514 - accuracy: 0.0262 - val_loss: 0.4903 - val_accuracy: 0.0000e+00\n",
      "Epoch 13/70\n",
      "5/5 [==============================] - 1s 219ms/step - loss: 0.3504 - accuracy: 0.0262 - val_loss: 0.4919 - val_accuracy: 0.0000e+00\n",
      "Epoch 14/70\n",
      "5/5 [==============================] - 1s 218ms/step - loss: 0.3501 - accuracy: 0.0262 - val_loss: 0.4909 - val_accuracy: 0.0000e+00\n",
      "Epoch 15/70\n",
      "5/5 [==============================] - 1s 212ms/step - loss: 0.3497 - accuracy: 0.0262 - val_loss: 0.4875 - val_accuracy: 0.0000e+00\n",
      "Epoch 16/70\n",
      "5/5 [==============================] - 1s 211ms/step - loss: 0.3492 - accuracy: 0.0262 - val_loss: 0.4859 - val_accuracy: 0.0000e+00\n",
      "Epoch 17/70\n",
      "5/5 [==============================] - 1s 206ms/step - loss: 0.3487 - accuracy: 0.0262 - val_loss: 0.4850 - val_accuracy: 0.0000e+00\n",
      "Epoch 18/70\n",
      "5/5 [==============================] - 1s 236ms/step - loss: 0.3483 - accuracy: 0.0262 - val_loss: 0.4838 - val_accuracy: 0.0000e+00\n",
      "Epoch 19/70\n",
      "5/5 [==============================] - 1s 212ms/step - loss: 0.3477 - accuracy: 0.0262 - val_loss: 0.4860 - val_accuracy: 0.0000e+00\n",
      "Epoch 20/70\n",
      "5/5 [==============================] - 1s 211ms/step - loss: 0.3472 - accuracy: 0.0262 - val_loss: 0.4883 - val_accuracy: 0.0000e+00\n",
      "Epoch 21/70\n",
      "5/5 [==============================] - 1s 258ms/step - loss: 0.3467 - accuracy: 0.0262 - val_loss: 0.4888 - val_accuracy: 0.0000e+00\n",
      "Epoch 22/70\n",
      "5/5 [==============================] - 1s 215ms/step - loss: 0.3461 - accuracy: 0.0262 - val_loss: 0.4869 - val_accuracy: 0.0000e+00\n",
      "Epoch 23/70\n",
      "5/5 [==============================] - 1s 209ms/step - loss: 0.3455 - accuracy: 0.0262 - val_loss: 0.4857 - val_accuracy: 0.0000e+00\n",
      "Epoch 24/70\n",
      "5/5 [==============================] - 1s 219ms/step - loss: 0.3449 - accuracy: 0.0262 - val_loss: 0.4834 - val_accuracy: 0.0000e+00\n",
      "Epoch 25/70\n",
      "5/5 [==============================] - 1s 238ms/step - loss: 0.3443 - accuracy: 0.0262 - val_loss: 0.4802 - val_accuracy: 0.0000e+00\n",
      "Epoch 26/70\n",
      "5/5 [==============================] - 1s 206ms/step - loss: 0.3436 - accuracy: 0.0262 - val_loss: 0.4795 - val_accuracy: 0.0000e+00\n",
      "Epoch 27/70\n",
      "5/5 [==============================] - 1s 208ms/step - loss: 0.3428 - accuracy: 0.0262 - val_loss: 0.4793 - val_accuracy: 0.0000e+00\n",
      "Epoch 28/70\n",
      "5/5 [==============================] - 1s 227ms/step - loss: 0.3420 - accuracy: 0.0262 - val_loss: 0.4785 - val_accuracy: 0.0000e+00\n",
      "Epoch 29/70\n",
      "5/5 [==============================] - 1s 229ms/step - loss: 0.3412 - accuracy: 0.0262 - val_loss: 0.4794 - val_accuracy: 0.0000e+00\n",
      "Epoch 30/70\n",
      "5/5 [==============================] - 1s 223ms/step - loss: 0.3403 - accuracy: 0.0262 - val_loss: 0.4788 - val_accuracy: 0.0000e+00\n",
      "Epoch 31/70\n",
      "5/5 [==============================] - 1s 216ms/step - loss: 0.3393 - accuracy: 0.0262 - val_loss: 0.4768 - val_accuracy: 0.0000e+00\n",
      "Epoch 32/70\n",
      "5/5 [==============================] - 1s 220ms/step - loss: 0.3383 - accuracy: 0.0262 - val_loss: 0.4731 - val_accuracy: 0.0000e+00\n",
      "Epoch 33/70\n",
      "5/5 [==============================] - 1s 208ms/step - loss: 0.3371 - accuracy: 0.0262 - val_loss: 0.4717 - val_accuracy: 0.0000e+00\n",
      "Epoch 34/70\n",
      "5/5 [==============================] - 1s 220ms/step - loss: 0.3359 - accuracy: 0.0262 - val_loss: 0.4706 - val_accuracy: 0.0000e+00\n",
      "Epoch 35/70\n",
      "5/5 [==============================] - 1s 234ms/step - loss: 0.3346 - accuracy: 0.0262 - val_loss: 0.4686 - val_accuracy: 0.0000e+00\n",
      "Epoch 36/70\n",
      "5/5 [==============================] - 1s 220ms/step - loss: 0.3332 - accuracy: 0.0262 - val_loss: 0.4665 - val_accuracy: 0.0000e+00\n",
      "Epoch 37/70\n",
      "5/5 [==============================] - 1s 230ms/step - loss: 0.3317 - accuracy: 0.0262 - val_loss: 0.4664 - val_accuracy: 0.0000e+00\n",
      "Epoch 38/70\n",
      "5/5 [==============================] - 1s 218ms/step - loss: 0.3301 - accuracy: 0.0262 - val_loss: 0.4661 - val_accuracy: 0.0000e+00\n",
      "Epoch 39/70\n",
      "5/5 [==============================] - 1s 215ms/step - loss: 0.3285 - accuracy: 0.0262 - val_loss: 0.4680 - val_accuracy: 0.0000e+00\n",
      "Epoch 40/70\n",
      "5/5 [==============================] - 1s 209ms/step - loss: 0.3269 - accuracy: 0.0262 - val_loss: 0.4650 - val_accuracy: 0.0000e+00\n",
      "Epoch 41/70\n",
      "5/5 [==============================] - 1s 237ms/step - loss: 0.3253 - accuracy: 0.0262 - val_loss: 0.4655 - val_accuracy: 0.0000e+00\n",
      "Epoch 42/70\n",
      "5/5 [==============================] - 1s 201ms/step - loss: 0.3237 - accuracy: 0.0262 - val_loss: 0.4652 - val_accuracy: 0.0000e+00\n",
      "Epoch 43/70\n",
      "5/5 [==============================] - 1s 196ms/step - loss: 0.3221 - accuracy: 0.0258 - val_loss: 0.4670 - val_accuracy: 0.0000e+00\n",
      "Epoch 44/70\n",
      "5/5 [==============================] - 1s 212ms/step - loss: 0.3207 - accuracy: 0.0258 - val_loss: 0.4677 - val_accuracy: 0.0000e+00\n",
      "Epoch 45/70\n",
      "5/5 [==============================] - 1s 221ms/step - loss: 0.3192 - accuracy: 0.0258 - val_loss: 0.4668 - val_accuracy: 0.0000e+00\n",
      "Epoch 46/70\n",
      "5/5 [==============================] - 1s 230ms/step - loss: 0.3178 - accuracy: 0.0262 - val_loss: 0.4656 - val_accuracy: 0.0000e+00\n",
      "Epoch 47/70\n",
      "5/5 [==============================] - 1s 198ms/step - loss: 0.3166 - accuracy: 0.0262 - val_loss: 0.4614 - val_accuracy: 0.0000e+00\n",
      "Epoch 48/70\n",
      "5/5 [==============================] - 1s 209ms/step - loss: 0.3153 - accuracy: 0.0262 - val_loss: 0.4611 - val_accuracy: 0.0000e+00\n",
      "Epoch 49/70\n",
      "5/5 [==============================] - 1s 218ms/step - loss: 0.3142 - accuracy: 0.0262 - val_loss: 0.4612 - val_accuracy: 0.0000e+00\n",
      "Epoch 50/70\n",
      "5/5 [==============================] - 1s 217ms/step - loss: 0.3131 - accuracy: 0.0262 - val_loss: 0.4634 - val_accuracy: 0.0000e+00\n",
      "Epoch 51/70\n",
      "5/5 [==============================] - 1s 211ms/step - loss: 0.3122 - accuracy: 0.0262 - val_loss: 0.4653 - val_accuracy: 0.0000e+00\n",
      "Epoch 52/70\n",
      "5/5 [==============================] - 1s 230ms/step - loss: 0.3113 - accuracy: 0.0262 - val_loss: 0.4675 - val_accuracy: 0.0000e+00\n",
      "Epoch 53/70\n",
      "5/5 [==============================] - 1s 227ms/step - loss: 0.3105 - accuracy: 0.0262 - val_loss: 0.4587 - val_accuracy: 0.0000e+00\n",
      "Epoch 54/70\n",
      "5/5 [==============================] - 1s 212ms/step - loss: 0.3100 - accuracy: 0.0262 - val_loss: 0.4617 - val_accuracy: 0.0000e+00\n",
      "Epoch 55/70\n",
      "5/5 [==============================] - 1s 230ms/step - loss: 0.3090 - accuracy: 0.0262 - val_loss: 0.4616 - val_accuracy: 0.0000e+00\n",
      "Epoch 56/70\n",
      "5/5 [==============================] - 1s 228ms/step - loss: 0.3083 - accuracy: 0.0258 - val_loss: 0.4655 - val_accuracy: 0.0000e+00\n",
      "Epoch 57/70\n"
     ]
    },
    {
     "name": "stdout",
     "output_type": "stream",
     "text": [
      "5/5 [==============================] - 1s 212ms/step - loss: 0.3075 - accuracy: 0.0262 - val_loss: 0.4632 - val_accuracy: 0.0000e+00\n",
      "Epoch 58/70\n",
      "5/5 [==============================] - 1s 236ms/step - loss: 0.3068 - accuracy: 0.0267 - val_loss: 0.4631 - val_accuracy: 0.0000e+00\n",
      "Epoch 59/70\n",
      "5/5 [==============================] - 1s 208ms/step - loss: 0.3062 - accuracy: 0.0267 - val_loss: 0.4603 - val_accuracy: 0.0000e+00\n",
      "Epoch 60/70\n",
      "5/5 [==============================] - 1s 218ms/step - loss: 0.3055 - accuracy: 0.0267 - val_loss: 0.4593 - val_accuracy: 0.0000e+00\n",
      "Epoch 61/70\n",
      "5/5 [==============================] - 1s 222ms/step - loss: 0.3048 - accuracy: 0.0262 - val_loss: 0.4581 - val_accuracy: 0.0000e+00\n",
      "Epoch 62/70\n",
      "5/5 [==============================] - 1s 212ms/step - loss: 0.3042 - accuracy: 0.0267 - val_loss: 0.4599 - val_accuracy: 0.0000e+00\n",
      "Epoch 63/70\n",
      "5/5 [==============================] - 1s 202ms/step - loss: 0.3037 - accuracy: 0.0267 - val_loss: 0.4634 - val_accuracy: 0.0000e+00\n",
      "Epoch 64/70\n",
      "5/5 [==============================] - 1s 218ms/step - loss: 0.3030 - accuracy: 0.0271 - val_loss: 0.4587 - val_accuracy: 0.0000e+00\n",
      "Epoch 65/70\n",
      "5/5 [==============================] - 1s 223ms/step - loss: 0.3023 - accuracy: 0.0271 - val_loss: 0.4608 - val_accuracy: 0.0000e+00\n",
      "Epoch 66/70\n",
      "5/5 [==============================] - 1s 210ms/step - loss: 0.3018 - accuracy: 0.0271 - val_loss: 0.4588 - val_accuracy: 0.0039\n",
      "Epoch 67/70\n",
      "5/5 [==============================] - 1s 236ms/step - loss: 0.3011 - accuracy: 0.0275 - val_loss: 0.4596 - val_accuracy: 0.0039\n",
      "Epoch 68/70\n",
      "5/5 [==============================] - 1s 211ms/step - loss: 0.3003 - accuracy: 0.0271 - val_loss: 0.4593 - val_accuracy: 0.0039\n",
      "Epoch 69/70\n",
      "5/5 [==============================] - 1s 225ms/step - loss: 0.2997 - accuracy: 0.0262 - val_loss: 0.4623 - val_accuracy: 0.0000e+00\n",
      "Epoch 70/70\n",
      "5/5 [==============================] - 1s 220ms/step - loss: 0.2992 - accuracy: 0.0271 - val_loss: 0.4620 - val_accuracy: 0.0157\n"
     ]
    },
    {
     "data": {
      "image/png": "[encoded data removed]",
      "text/plain": [
       "<Figure size 432x288 with 1 Axes>"
      ]
     },
     "metadata": {
      "needs_background": "light"
     },
     "output_type": "display_data"
    },
    {
     "data": {
      "image/png": "[encoded data removed]",
      "text/plain": [
       "<Figure size 432x288 with 1 Axes>"
      ]
     },
     "metadata": {
      "needs_background": "light"
     },
     "output_type": "display_data"
    }
   ],
   "source": [
    "history = model.fit(x=ff,y=Y,\n",
    "                    epochs=70,batch_size=512,\n",
    "                    validation_split=0.1,\n",
    "                     verbose=1,\n",
    "                     callbacks=[cp_callback],\n",
    "                    use_multiprocessing=True\n",
    "                   )\n",
    "\n",
    "plotHistory(history)"
   ]
  },
  {
   "cell_type": "code",
   "execution_count": null,
   "metadata": {
    "scrolled": true
   },
   "outputs": [],
   "source": [
    "history = model.fit(x=ff,y=Y,\n",
    "                    epochs=2000,batch_size=512,\n",
    "                    validation_split=0.1,\n",
    "                     verbose=1,\n",
    "#                      callbacks=[cp_callback],\n",
    "                    use_multiprocessing=True\n",
    "                   )"
   ]
  },
  {
   "cell_type": "code",
   "execution_count": 9,
   "metadata": {},
   "outputs": [
    {
     "name": "stdout",
     "output_type": "stream",
     "text": [
      "80/80 [==============================] - 0s 6ms/step - loss: 0.1132 - accuracy: 0.1066\n"
     ]
    },
    {
     "data": {
      "image/png": "[encoded data removed]",
      "text/plain": [
       "<Figure size 432x288 with 1 Axes>"
      ]
     },
     "metadata": {
      "needs_background": "light"
     },
     "output_type": "display_data"
    },
    {
     "data": {
      "image/png": "[encoded data removed]",
      "text/plain": [
       "<Figure size 432x288 with 1 Axes>"
      ]
     },
     "metadata": {
      "needs_background": "light"
     },
     "output_type": "display_data"
    }
   ],
   "source": [
    "model.evaluate(ff,Y)\n",
    "plotHistory(history)"
   ]
  },
  {
   "cell_type": "code",
   "execution_count": 8,
   "metadata": {},
   "outputs": [
    {
     "data": {
      "text/plain": [
       "<tensorflow.python.training.tracking.util.CheckpointLoadStatus at 0x7f74c4645208>"
      ]
     },
     "execution_count": 8,
     "metadata": {},
     "output_type": "execute_result"
    }
   ],
   "source": [
    "model.load_weights(checkpoint_path)\n",
    "# model.save_weights(checkpoint_path)\n"
   ]
  },
  {
   "cell_type": "code",
   "execution_count": 10,
   "metadata": {},
   "outputs": [
    {
     "name": "stdout",
     "output_type": "stream",
     "text": [
      "5313 2543 2.0892646480534802 0.04541879669681479\n",
      "0.045418796696814784\n"
     ]
    }
   ],
   "source": [
    "all_predict=model.predict(ff[:])\n",
    "error_matrix=(np.absolute(Y - all_predict) > .5).astype(int)\n",
    "_total = error_matrix.sum()\n",
    "print(_total, len(Y), _total / len(Y), _total / len(Y) / len(Y[0]))\n",
    "print(np.average(error_matrix.sum(axis=1) / len(Y[0])))"
   ]
  },
  {
   "cell_type": "code",
   "execution_count": null,
   "metadata": {},
   "outputs": [],
   "source": [
    "full_expect = raw_data[raw_data.columns[1:(len(raw_data.columns)-1)]]\n",
    "np_pred = (all_predict > 0.5).astype(int)\n",
    "full_predict = full_expect.copy()\n",
    "for idx, name in enumerate (_cat_list) :\n",
    "    full_predict[name] = np_pred[:,idx]\n",
    "full_predict = full_predict[full_expect.columns]\n",
    "full_error=np.absolute(np.array(full_expect) - np.array(full_predict))\n",
    "_total = full_error.sum()\n",
    "print('Wrong:', _total, len(full_error), 'Wrong in row:', _total / len(full_error), _total / len(full_error) / len(full_error[0]))"
   ]
  },
  {
   "cell_type": "code",
   "execution_count": null,
   "metadata": {},
   "outputs": [],
   "source": [
    "import tensorflowjs as tfjs\n",
    "\n",
    "tfjs.converters.save_keras_model(model, '../checkpoint/js')"
   ]
  }
 ],
 "metadata": {
  "kernelspec": {
   "display_name": "Python 3",
   "language": "python",
   "name": "python3"
  },
  "language_info": {
   "codemirror_mode": {
    "name": "ipython",
    "version": 3
   },
   "file_extension": ".py",
   "mimetype": "text/x-python",
   "name": "python",
   "nbconvert_exporter": "python",
   "pygments_lexer": "ipython3",
   "version": "3.6.9"
  }
 },
 "nbformat": 4,
 "nbformat_minor": 2
}
