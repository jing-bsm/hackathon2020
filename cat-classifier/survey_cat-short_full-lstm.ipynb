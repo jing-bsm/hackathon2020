{
 "cells": [
  {
   "cell_type": "code",
   "execution_count": null,
   "metadata": {},
   "outputs": [],
   "source": [
    "#docker run -it --rm -v c:/workspace/jupyter:/tf -p 8888:8888 tensorflow/tensorflow:latest-gpu-jupyter\n",
    "#2021-01-05\n",
    "#!pip install pandas\n",
    "#!pip install tensorflow_hub\n",
    "#!pip install tensorflow_text\n",
    "#!pip install tensorflowjs"
   ]
  },
  {
   "cell_type": "code",
   "execution_count": 1,
   "metadata": {},
   "outputs": [],
   "source": [
    "import os\n",
    "import numpy as np\n",
    "import pandas as pd\n",
    "import tensorflow as tf\n",
    "\n",
    "np.set_printoptions(precision=3, suppress=True) # easy to read read only\n",
    "\n",
    "from tensorflow.keras import Model, Sequential\n",
    "from tensorflow.keras.layers import Activation, Dense, Embedding, GlobalAveragePooling1D\n",
    "from tensorflow.keras.layers.experimental.preprocessing import TextVectorization\n",
    "import tensorflow_hub as hub\n",
    "import matplotlib.pyplot as plt\n",
    "import json\n",
    "import re"
   ]
  },
  {
   "cell_type": "code",
   "execution_count": 2,
   "metadata": {},
   "outputs": [
    {
     "name": "stdout",
     "output_type": "stream",
     "text": [
      "Version:  2.4.0\n"
     ]
    }
   ],
   "source": [
    "print(\"Version: \", tf.__version__)\n",
    "raw_data = pd.read_csv('../data/S_SURVEY_FULL.csv')\n",
    "# raw_data.head()\n",
    "\n"
   ]
  },
  {
   "cell_type": "code",
   "execution_count": 3,
   "metadata": {},
   "outputs": [
    {
     "name": "stdout",
     "output_type": "stream",
     "text": [
      "(2543,) 46\n"
     ]
    }
   ],
   "source": [
    "# features / labels / Y\n",
    "_cat_list = list()\n",
    "_min_num = len(raw_data) * .05\n",
    "\n",
    "for c in list(raw_data.columns)[1:(len(raw_data.columns)-1)]:\n",
    "    if(raw_data[[c]].sum().tolist()[0] > _min_num):\n",
    "        _cat_list.append(c)\n",
    "expect = raw_data.loc[:, _cat_list]\n",
    "Y = np.array(expect)\n",
    "feature = np.array(raw_data.loc[:,['JSON']]).reshape(-1)\n",
    "print(feature.shape,len(_cat_list))"
   ]
  },
  {
   "cell_type": "code",
   "execution_count": 4,
   "metadata": {},
   "outputs": [
    {
     "name": "stdout",
     "output_type": "stream",
     "text": [
      "(400,) 400\n",
      "(2543,) (2543, 46)\n"
     ]
    }
   ],
   "source": [
    "# train / text / X\n",
    "VOCAB_SIZE=400\n",
    "encoder = tf.keras.layers.experimental.preprocessing.TextVectorization(\n",
    "    max_tokens=VOCAB_SIZE)\n",
    "ff = np.array([re.sub('[^0-9a-zA-Z_\\\\.]+', ' ', xx) for xx in feature])\n",
    "encoder.adapt(ff)\n",
    "print(np.array(encoder.get_vocabulary()).shape, len(encoder.get_vocabulary()))\n",
    "print(ff.shape,Y.shape)"
   ]
  },
  {
   "cell_type": "code",
   "execution_count": 14,
   "metadata": {},
   "outputs": [
    {
     "name": "stdout",
     "output_type": "stream",
     "text": [
      "5/5 [==============================] - 7s 657ms/step - loss: 0.6905 - accuracy: 0.0240 - val_loss: 0.6803 - val_accuracy: 0.0000e+00\n"
     ]
    }
   ],
   "source": [
    "output_den = len(Y[0]);\n",
    "\n",
    "model = tf.keras.Sequential()\n",
    "model.add(encoder)\n",
    "\n",
    "model.add(tf.keras.layers.Embedding(input_dim=len(encoder.get_vocabulary()),mask_zero=True,\n",
    "                                    output_dim=16))\n",
    "model.add(tf.keras.layers.LSTM(64))\n",
    "\n",
    "model.add(tf.keras.layers.Dense(256, activation='relu'))\n",
    "\n",
    "# model.add(tf.keras.layers.Dropout(0.2))\n",
    "\n",
    "model.add(tf.keras.layers.Dense(128, activation='tanh'))\n",
    "# model.add(tf.keras.layers.GlobalAveragePooling1D())\n",
    "# model.add(tf.keras.layers.Dense(64, activation='tanh'))\n",
    "model.add(tf.keras.layers.Dense(output_den, activation='sigmoid'))\n",
    "\n",
    "\n",
    "# # model.summary()\n",
    "model.compile(optimizer='adam',\n",
    "              loss=tf.keras.losses.BinaryCrossentropy(from_logits=True),\n",
    "              metrics=['accuracy'])\n",
    "\n",
    "history = model.fit(x=ff,y=Y,\n",
    "                    epochs=1,batch_size=512,\n",
    "                    validation_split=0.01,\n",
    "                     verbose=1,\n",
    "#                      callbacks=[cp_callback],\n",
    "                    use_multiprocessing=True\n",
    "                   )"
   ]
  },
  {
   "cell_type": "code",
   "execution_count": 6,
   "metadata": {},
   "outputs": [
    {
     "name": "stdout",
     "output_type": "stream",
     "text": [
      "5/5 [==============================] - 6s 603ms/step - loss: 0.6700 - accuracy: 0.0237 - val_loss: 0.6342 - val_accuracy: 0.0000e+00\n"
     ]
    }
   ],
   "source": [
    "model.compile(optimizer='adam',\n",
    "              loss=tf.keras.losses.BinaryCrossentropy(from_logits=True),\n",
    "              metrics=['accuracy'])\n",
    "\n",
    "history = model.fit(x=ff,y=Y,\n",
    "                    epochs=1,batch_size=512,\n",
    "                    validation_split=0.01,\n",
    "                     verbose=1,\n",
    "#                      callbacks=[cp_callback],\n",
    "                    use_multiprocessing=True\n",
    "                   )"
   ]
  },
  {
   "cell_type": "code",
   "execution_count": 7,
   "metadata": {},
   "outputs": [],
   "source": [
    "checkpoint_path = \"../checkpoint/survey_short_full_lstm.ckpt\"\n",
    "\n",
    "# Create a callback that saves the model's weights\n",
    "cp_callback = tf.keras.callbacks.ModelCheckpoint(filepath=checkpoint_path,\n",
    "                                                 save_weights_only=True,\n",
    "                                                 verbose=0)\n",
    "\n",
    "def plotHistory(history):\n",
    "    plt.plot(history.history['accuracy'])\n",
    "    plt.plot(history.history['val_accuracy'])\n",
    "    plt.title('model accuracy')\n",
    "    plt.ylabel('accuracy')\n",
    "    plt.xlabel('epoch')\n",
    "    plt.legend(['train', 'test'], loc='upper left')\n",
    "    plt.show()\n",
    "    # summarize history for loss\n",
    "    plt.plot(history.history['loss'])\n",
    "    plt.plot(history.history['val_loss'])\n",
    "    plt.title('model loss')\n",
    "    plt.ylabel('loss')\n",
    "    plt.xlabel('epoch')\n",
    "    plt.legend(['train', 'test'], loc='upper left')\n",
    "    plt.show()"
   ]
  },
  {
   "cell_type": "code",
   "execution_count": null,
   "metadata": {
    "scrolled": true
   },
   "outputs": [],
   "source": [
    "# history = model.fit(x=ff,y=Y,\n",
    "#                     epochs=1,batch_size=512,\n",
    "#                     validation_split=0.1,\n",
    "#                      verbose=1,\n",
    "#                      callbacks=[cp_callback],\n",
    "#                     use_multiprocessing=True\n",
    "#                    )\n",
    "\n",
    "# # plotHistory(history)"
   ]
  },
  {
   "cell_type": "code",
   "execution_count": 19,
   "metadata": {
    "scrolled": true
   },
   "outputs": [
    {
     "name": "stdout",
     "output_type": "stream",
     "text": [
      "Epoch 1/500\n",
      "5/5 [==============================] - 2s 317ms/step - loss: 0.1129 - accuracy: 0.0944 - val_loss: 0.1825 - val_accuracy: 0.0392\n",
      "Epoch 2/500\n",
      "5/5 [==============================] - 2s 301ms/step - loss: 0.1155 - accuracy: 0.1005 - val_loss: 0.1873 - val_accuracy: 0.0353\n",
      "Epoch 3/500\n",
      "5/5 [==============================] - 1s 298ms/step - loss: 0.1137 - accuracy: 0.1010 - val_loss: 0.1830 - val_accuracy: 0.0353\n",
      "Epoch 4/500\n",
      "5/5 [==============================] - 2s 305ms/step - loss: 0.1115 - accuracy: 0.1001 - val_loss: 0.1839 - val_accuracy: 0.0392\n",
      "Epoch 5/500\n",
      "5/5 [==============================] - 1s 292ms/step - loss: 0.1110 - accuracy: 0.0948 - val_loss: 0.1822 - val_accuracy: 0.0392\n",
      "Epoch 6/500\n",
      "5/5 [==============================] - 2s 305ms/step - loss: 0.1097 - accuracy: 0.0944 - val_loss: 0.1847 - val_accuracy: 0.0353\n",
      "Epoch 7/500\n",
      "5/5 [==============================] - 2s 296ms/step - loss: 0.1102 - accuracy: 0.0953 - val_loss: 0.1842 - val_accuracy: 0.0392\n",
      "Epoch 8/500\n",
      "5/5 [==============================] - 2s 296ms/step - loss: 0.1097 - accuracy: 0.0970 - val_loss: 0.1882 - val_accuracy: 0.0353\n",
      "Epoch 9/500\n",
      "5/5 [==============================] - 1s 295ms/step - loss: 0.1101 - accuracy: 0.0962 - val_loss: 0.1855 - val_accuracy: 0.0392\n",
      "Epoch 10/500\n",
      "5/5 [==============================] - 2s 312ms/step - loss: 0.1120 - accuracy: 0.0988 - val_loss: 0.1826 - val_accuracy: 0.0392\n",
      "Epoch 11/500\n",
      "5/5 [==============================] - 2s 292ms/step - loss: 0.1153 - accuracy: 0.0988 - val_loss: 0.1853 - val_accuracy: 0.0353\n",
      "Epoch 12/500\n",
      "5/5 [==============================] - 1s 281ms/step - loss: 0.1158 - accuracy: 0.0940 - val_loss: 0.1810 - val_accuracy: 0.0353\n",
      "Epoch 13/500\n",
      "5/5 [==============================] - 2s 310ms/step - loss: 0.1161 - accuracy: 0.0957 - val_loss: 0.1881 - val_accuracy: 0.0353\n",
      "Epoch 14/500\n",
      "5/5 [==============================] - 2s 298ms/step - loss: 0.1173 - accuracy: 0.0975 - val_loss: 0.1807 - val_accuracy: 0.0392\n",
      "Epoch 15/500\n",
      "5/5 [==============================] - 1s 280ms/step - loss: 0.1152 - accuracy: 0.1018 - val_loss: 0.1888 - val_accuracy: 0.0353\n",
      "Epoch 16/500\n",
      "5/5 [==============================] - 2s 302ms/step - loss: 0.1180 - accuracy: 0.0957 - val_loss: 0.1812 - val_accuracy: 0.0353\n",
      "Epoch 17/500\n",
      "5/5 [==============================] - 2s 331ms/step - loss: 0.1150 - accuracy: 0.0979 - val_loss: 0.1832 - val_accuracy: 0.0353\n",
      "Epoch 18/500\n",
      "5/5 [==============================] - 1s 292ms/step - loss: 0.1130 - accuracy: 0.0953 - val_loss: 0.1839 - val_accuracy: 0.0353\n",
      "Epoch 19/500\n",
      "5/5 [==============================] - 2s 306ms/step - loss: 0.1111 - accuracy: 0.1023 - val_loss: 0.1872 - val_accuracy: 0.0353\n",
      "Epoch 20/500\n",
      "5/5 [==============================] - 2s 301ms/step - loss: 0.1105 - accuracy: 0.0983 - val_loss: 0.1830 - val_accuracy: 0.0353\n",
      "Epoch 21/500\n",
      "5/5 [==============================] - 2s 311ms/step - loss: 0.1094 - accuracy: 0.1036 - val_loss: 0.1874 - val_accuracy: 0.0353\n",
      "Epoch 22/500\n",
      "5/5 [==============================] - 1s 292ms/step - loss: 0.1084 - accuracy: 0.1014 - val_loss: 0.1847 - val_accuracy: 0.0353\n",
      "Epoch 23/500\n",
      "5/5 [==============================] - 2s 302ms/step - loss: 0.1082 - accuracy: 0.1023 - val_loss: 0.1821 - val_accuracy: 0.0392\n",
      "Epoch 24/500\n",
      "5/5 [==============================] - 2s 313ms/step - loss: 0.1091 - accuracy: 0.1010 - val_loss: 0.1870 - val_accuracy: 0.0353\n",
      "Epoch 25/500\n",
      "5/5 [==============================] - 2s 302ms/step - loss: 0.1084 - accuracy: 0.0975 - val_loss: 0.1856 - val_accuracy: 0.0353\n",
      "Epoch 26/500\n",
      "5/5 [==============================] - 2s 293ms/step - loss: 0.1093 - accuracy: 0.0970 - val_loss: 0.1815 - val_accuracy: 0.0353\n",
      "Epoch 27/500\n",
      "5/5 [==============================] - 2s 314ms/step - loss: 0.1087 - accuracy: 0.0931 - val_loss: 0.1865 - val_accuracy: 0.0353\n",
      "Epoch 28/500\n",
      "5/5 [==============================] - 1s 300ms/step - loss: 0.1110 - accuracy: 0.0975 - val_loss: 0.1829 - val_accuracy: 0.0392\n",
      "Epoch 29/500\n",
      "5/5 [==============================] - 2s 295ms/step - loss: 0.1106 - accuracy: 0.0992 - val_loss: 0.1796 - val_accuracy: 0.0353\n",
      "Epoch 30/500\n",
      "5/5 [==============================] - 2s 315ms/step - loss: 0.1133 - accuracy: 0.0940 - val_loss: 0.1836 - val_accuracy: 0.0353\n",
      "Epoch 31/500\n",
      "5/5 [==============================] - 2s 301ms/step - loss: 0.1128 - accuracy: 0.0966 - val_loss: 0.1828 - val_accuracy: 0.0353\n",
      "Epoch 32/500\n",
      "5/5 [==============================] - 1s 302ms/step - loss: 0.1121 - accuracy: 0.0970 - val_loss: 0.1844 - val_accuracy: 0.0353\n",
      "Epoch 33/500\n",
      "5/5 [==============================] - 2s 313ms/step - loss: 0.1096 - accuracy: 0.0962 - val_loss: 0.1857 - val_accuracy: 0.0353\n",
      "Epoch 34/500\n",
      "5/5 [==============================] - 2s 308ms/step - loss: 0.1083 - accuracy: 0.1023 - val_loss: 0.1867 - val_accuracy: 0.0353\n",
      "Epoch 35/500\n",
      "5/5 [==============================] - 2s 412ms/step - loss: 0.1075 - accuracy: 0.1014 - val_loss: 0.1855 - val_accuracy: 0.0353\n",
      "Epoch 36/500\n",
      "5/5 [==============================] - 3s 563ms/step - loss: 0.1071 - accuracy: 0.0970 - val_loss: 0.1830 - val_accuracy: 0.0353\n",
      "Epoch 37/500\n",
      "5/5 [==============================] - 3s 539ms/step - loss: 0.1069 - accuracy: 0.0979 - val_loss: 0.1868 - val_accuracy: 0.0353\n",
      "Epoch 38/500\n",
      "5/5 [==============================] - 3s 537ms/step - loss: 0.1067 - accuracy: 0.0992 - val_loss: 0.1867 - val_accuracy: 0.0353\n",
      "Epoch 39/500\n",
      "5/5 [==============================] - 2s 296ms/step - loss: 0.1064 - accuracy: 0.0997 - val_loss: 0.1885 - val_accuracy: 0.0353\n",
      "Epoch 40/500\n",
      "5/5 [==============================] - 2s 303ms/step - loss: 0.1069 - accuracy: 0.0962 - val_loss: 0.1848 - val_accuracy: 0.0353\n",
      "Epoch 41/500\n",
      "5/5 [==============================] - 2s 287ms/step - loss: 0.1069 - accuracy: 0.0962 - val_loss: 0.1837 - val_accuracy: 0.0353\n",
      "Epoch 42/500\n",
      "5/5 [==============================] - 1s 300ms/step - loss: 0.1084 - accuracy: 0.0979 - val_loss: 0.1858 - val_accuracy: 0.0353\n",
      "Epoch 43/500\n",
      "5/5 [==============================] - 2s 302ms/step - loss: 0.1066 - accuracy: 0.1031 - val_loss: 0.1867 - val_accuracy: 0.0353\n",
      "Epoch 44/500\n",
      "5/5 [==============================] - 2s 294ms/step - loss: 0.1075 - accuracy: 0.1018 - val_loss: 0.1878 - val_accuracy: 0.0353\n",
      "Epoch 45/500\n",
      "5/5 [==============================] - 2s 299ms/step - loss: 0.1073 - accuracy: 0.1040 - val_loss: 0.1846 - val_accuracy: 0.0353\n",
      "Epoch 46/500\n",
      "5/5 [==============================] - 1s 298ms/step - loss: 0.1075 - accuracy: 0.1005 - val_loss: 0.1882 - val_accuracy: 0.0353\n",
      "Epoch 47/500\n",
      "5/5 [==============================] - 2s 307ms/step - loss: 0.1070 - accuracy: 0.1036 - val_loss: 0.1900 - val_accuracy: 0.0353\n",
      "Epoch 48/500\n",
      "5/5 [==============================] - 1s 301ms/step - loss: 0.1071 - accuracy: 0.0997 - val_loss: 0.1809 - val_accuracy: 0.0353\n",
      "Epoch 49/500\n",
      "5/5 [==============================] - 2s 303ms/step - loss: 0.1068 - accuracy: 0.0966 - val_loss: 0.1928 - val_accuracy: 0.0353\n",
      "Epoch 50/500\n",
      "5/5 [==============================] - 1s 303ms/step - loss: 0.1062 - accuracy: 0.1005 - val_loss: 0.1886 - val_accuracy: 0.0353\n",
      "Epoch 51/500\n",
      "5/5 [==============================] - 1s 285ms/step - loss: 0.1060 - accuracy: 0.1066 - val_loss: 0.1933 - val_accuracy: 0.0353\n",
      "Epoch 52/500\n",
      "5/5 [==============================] - 2s 304ms/step - loss: 0.1091 - accuracy: 0.1058 - val_loss: 0.1944 - val_accuracy: 0.0353\n",
      "Epoch 53/500\n",
      "5/5 [==============================] - 2s 301ms/step - loss: 0.1073 - accuracy: 0.1049 - val_loss: 0.1848 - val_accuracy: 0.0353\n",
      "Epoch 54/500\n",
      "5/5 [==============================] - 2s 328ms/step - loss: 0.1054 - accuracy: 0.1023 - val_loss: 0.1868 - val_accuracy: 0.0353\n",
      "Epoch 55/500\n",
      "5/5 [==============================] - 2s 298ms/step - loss: 0.1063 - accuracy: 0.1031 - val_loss: 0.1939 - val_accuracy: 0.0353\n",
      "Epoch 56/500\n",
      "5/5 [==============================] - 2s 308ms/step - loss: 0.1059 - accuracy: 0.1031 - val_loss: 0.1904 - val_accuracy: 0.0353\n",
      "Epoch 57/500\n",
      "5/5 [==============================] - 2s 306ms/step - loss: 0.1053 - accuracy: 0.1045 - val_loss: 0.1881 - val_accuracy: 0.0353\n",
      "Epoch 58/500\n",
      "5/5 [==============================] - 2s 307ms/step - loss: 0.1048 - accuracy: 0.1049 - val_loss: 0.1893 - val_accuracy: 0.0353\n"
     ]
    },
    {
     "name": "stdout",
     "output_type": "stream",
     "text": [
      "Epoch 59/500\n",
      "5/5 [==============================] - 2s 300ms/step - loss: 0.1048 - accuracy: 0.1066 - val_loss: 0.1930 - val_accuracy: 0.0353\n",
      "Epoch 60/500\n",
      "5/5 [==============================] - 2s 312ms/step - loss: 0.1048 - accuracy: 0.1062 - val_loss: 0.1913 - val_accuracy: 0.0353\n",
      "Epoch 61/500\n",
      "5/5 [==============================] - 2s 294ms/step - loss: 0.1051 - accuracy: 0.1066 - val_loss: 0.1928 - val_accuracy: 0.0353\n",
      "Epoch 62/500\n",
      "5/5 [==============================] - 2s 309ms/step - loss: 0.1052 - accuracy: 0.1062 - val_loss: 0.1907 - val_accuracy: 0.0353\n",
      "Epoch 63/500\n",
      "5/5 [==============================] - 2s 295ms/step - loss: 0.1064 - accuracy: 0.1031 - val_loss: 0.1885 - val_accuracy: 0.0353\n",
      "Epoch 64/500\n",
      "5/5 [==============================] - 1s 292ms/step - loss: 0.1053 - accuracy: 0.1036 - val_loss: 0.1890 - val_accuracy: 0.0353\n",
      "Epoch 65/500\n",
      "5/5 [==============================] - 1s 294ms/step - loss: 0.1044 - accuracy: 0.0988 - val_loss: 0.1862 - val_accuracy: 0.0353\n",
      "Epoch 66/500\n",
      "5/5 [==============================] - 1s 287ms/step - loss: 0.1060 - accuracy: 0.1036 - val_loss: 0.1890 - val_accuracy: 0.0353\n",
      "Epoch 67/500\n",
      "5/5 [==============================] - 2s 385ms/step - loss: 0.1066 - accuracy: 0.1110 - val_loss: 0.1879 - val_accuracy: 0.0353\n",
      "Epoch 68/500\n",
      "5/5 [==============================] - 2s 305ms/step - loss: 0.1055 - accuracy: 0.1075 - val_loss: 0.1901 - val_accuracy: 0.0353\n",
      "Epoch 69/500\n",
      "5/5 [==============================] - 2s 299ms/step - loss: 0.1047 - accuracy: 0.1045 - val_loss: 0.1972 - val_accuracy: 0.0353\n",
      "Epoch 70/500\n",
      "5/5 [==============================] - 1s 298ms/step - loss: 0.1042 - accuracy: 0.1045 - val_loss: 0.1899 - val_accuracy: 0.0353\n",
      "Epoch 71/500\n",
      "5/5 [==============================] - 2s 323ms/step - loss: 0.1046 - accuracy: 0.1049 - val_loss: 0.1941 - val_accuracy: 0.0353\n",
      "Epoch 72/500\n",
      "5/5 [==============================] - 1s 286ms/step - loss: 0.1050 - accuracy: 0.0997 - val_loss: 0.1923 - val_accuracy: 0.0353\n",
      "Epoch 73/500\n",
      "5/5 [==============================] - 2s 311ms/step - loss: 0.1036 - accuracy: 0.1023 - val_loss: 0.1891 - val_accuracy: 0.0353\n",
      "Epoch 74/500\n",
      "5/5 [==============================] - 2s 309ms/step - loss: 0.1029 - accuracy: 0.1084 - val_loss: 0.1928 - val_accuracy: 0.0353\n",
      "Epoch 75/500\n",
      "5/5 [==============================] - 2s 310ms/step - loss: 0.1031 - accuracy: 0.1093 - val_loss: 0.1877 - val_accuracy: 0.0353\n",
      "Epoch 76/500\n",
      "5/5 [==============================] - 1s 295ms/step - loss: 0.1035 - accuracy: 0.1101 - val_loss: 0.1887 - val_accuracy: 0.0353\n",
      "Epoch 77/500\n",
      "5/5 [==============================] - 2s 299ms/step - loss: 0.1030 - accuracy: 0.1084 - val_loss: 0.1914 - val_accuracy: 0.0353\n",
      "Epoch 78/500\n",
      "5/5 [==============================] - 2s 308ms/step - loss: 0.1035 - accuracy: 0.1093 - val_loss: 0.1955 - val_accuracy: 0.0353\n",
      "Epoch 79/500\n",
      "5/5 [==============================] - 2s 308ms/step - loss: 0.1042 - accuracy: 0.1066 - val_loss: 0.1906 - val_accuracy: 0.0353\n",
      "Epoch 80/500\n",
      "5/5 [==============================] - 1s 295ms/step - loss: 0.1034 - accuracy: 0.1053 - val_loss: 0.1935 - val_accuracy: 0.0353\n",
      "Epoch 81/500\n",
      "5/5 [==============================] - 2s 301ms/step - loss: 0.1022 - accuracy: 0.1010 - val_loss: 0.1945 - val_accuracy: 0.0353\n",
      "Epoch 82/500\n",
      "5/5 [==============================] - 2s 311ms/step - loss: 0.1020 - accuracy: 0.1045 - val_loss: 0.1956 - val_accuracy: 0.0353\n",
      "Epoch 83/500\n",
      "5/5 [==============================] - 2s 304ms/step - loss: 0.1022 - accuracy: 0.1040 - val_loss: 0.1923 - val_accuracy: 0.0353\n",
      "Epoch 84/500\n",
      "5/5 [==============================] - 2s 308ms/step - loss: 0.1022 - accuracy: 0.1080 - val_loss: 0.1921 - val_accuracy: 0.0353\n",
      "Epoch 85/500\n",
      "5/5 [==============================] - 1s 299ms/step - loss: 0.1029 - accuracy: 0.1066 - val_loss: 0.1943 - val_accuracy: 0.0353\n",
      "Epoch 86/500\n",
      "5/5 [==============================] - 2s 291ms/step - loss: 0.1029 - accuracy: 0.1045 - val_loss: 0.1926 - val_accuracy: 0.0353\n",
      "Epoch 87/500\n",
      "5/5 [==============================] - 1s 291ms/step - loss: 0.1011 - accuracy: 0.1071 - val_loss: 0.1904 - val_accuracy: 0.0353\n",
      "Epoch 88/500\n",
      "5/5 [==============================] - 2s 302ms/step - loss: 0.1007 - accuracy: 0.1053 - val_loss: 0.1923 - val_accuracy: 0.0353\n",
      "Epoch 89/500\n",
      "5/5 [==============================] - 1s 298ms/step - loss: 0.1003 - accuracy: 0.1053 - val_loss: 0.1945 - val_accuracy: 0.0353\n",
      "Epoch 90/500\n",
      "5/5 [==============================] - 1s 293ms/step - loss: 0.0997 - accuracy: 0.1049 - val_loss: 0.1945 - val_accuracy: 0.0353\n",
      "Epoch 91/500\n",
      "5/5 [==============================] - 2s 301ms/step - loss: 0.0993 - accuracy: 0.1062 - val_loss: 0.1960 - val_accuracy: 0.0353\n",
      "Epoch 92/500\n",
      "5/5 [==============================] - 1s 289ms/step - loss: 0.1003 - accuracy: 0.1088 - val_loss: 0.1976 - val_accuracy: 0.0353\n",
      "Epoch 93/500\n",
      "5/5 [==============================] - 2s 316ms/step - loss: 0.0994 - accuracy: 0.1066 - val_loss: 0.1950 - val_accuracy: 0.0353\n",
      "Epoch 94/500\n",
      "5/5 [==============================] - 1s 284ms/step - loss: 0.0999 - accuracy: 0.1036 - val_loss: 0.1974 - val_accuracy: 0.0353\n",
      "Epoch 95/500\n",
      "5/5 [==============================] - 2s 319ms/step - loss: 0.0992 - accuracy: 0.1101 - val_loss: 0.1965 - val_accuracy: 0.0353\n",
      "Epoch 96/500\n",
      "5/5 [==============================] - 2s 333ms/step - loss: 0.0988 - accuracy: 0.1088 - val_loss: 0.1985 - val_accuracy: 0.0353\n",
      "Epoch 97/500\n",
      "5/5 [==============================] - 2s 317ms/step - loss: 0.0996 - accuracy: 0.1027 - val_loss: 0.1956 - val_accuracy: 0.0353\n",
      "Epoch 98/500\n",
      "5/5 [==============================] - 2s 296ms/step - loss: 0.0993 - accuracy: 0.1045 - val_loss: 0.1959 - val_accuracy: 0.0353\n",
      "Epoch 99/500\n",
      "5/5 [==============================] - 2s 305ms/step - loss: 0.0992 - accuracy: 0.1093 - val_loss: 0.1996 - val_accuracy: 0.0353\n",
      "Epoch 100/500\n",
      "5/5 [==============================] - 2s 302ms/step - loss: 0.0998 - accuracy: 0.1062 - val_loss: 0.1938 - val_accuracy: 0.0353\n",
      "Epoch 101/500\n",
      "5/5 [==============================] - 2s 306ms/step - loss: 0.0996 - accuracy: 0.1119 - val_loss: 0.1985 - val_accuracy: 0.0353\n",
      "Epoch 102/500\n",
      "5/5 [==============================] - 2s 297ms/step - loss: 0.0998 - accuracy: 0.1119 - val_loss: 0.1903 - val_accuracy: 0.0353\n",
      "Epoch 103/500\n",
      "5/5 [==============================] - 2s 292ms/step - loss: 0.0996 - accuracy: 0.1154 - val_loss: 0.1977 - val_accuracy: 0.0353\n",
      "Epoch 104/500\n",
      "5/5 [==============================] - 2s 296ms/step - loss: 0.0992 - accuracy: 0.1062 - val_loss: 0.1976 - val_accuracy: 0.0353\n",
      "Epoch 105/500\n",
      "5/5 [==============================] - 2s 308ms/step - loss: 0.1021 - accuracy: 0.1049 - val_loss: 0.1995 - val_accuracy: 0.0353\n",
      "Epoch 106/500\n",
      "5/5 [==============================] - 1s 285ms/step - loss: 0.1005 - accuracy: 0.1101 - val_loss: 0.1972 - val_accuracy: 0.0353\n",
      "Epoch 107/500\n",
      "5/5 [==============================] - 2s 303ms/step - loss: 0.0998 - accuracy: 0.1141 - val_loss: 0.1959 - val_accuracy: 0.0353\n",
      "Epoch 108/500\n",
      "5/5 [==============================] - 1s 293ms/step - loss: 0.1000 - accuracy: 0.1036 - val_loss: 0.1971 - val_accuracy: 0.0314\n",
      "Epoch 109/500\n",
      "5/5 [==============================] - 2s 297ms/step - loss: 0.1010 - accuracy: 0.1031 - val_loss: 0.2020 - val_accuracy: 0.0353\n",
      "Epoch 110/500\n",
      "5/5 [==============================] - 2s 304ms/step - loss: 0.1041 - accuracy: 0.1045 - val_loss: 0.2037 - val_accuracy: 0.0314\n",
      "Epoch 111/500\n",
      "5/5 [==============================] - 2s 281ms/step - loss: 0.1050 - accuracy: 0.1097 - val_loss: 0.1988 - val_accuracy: 0.0353\n",
      "Epoch 112/500\n",
      "5/5 [==============================] - 2s 315ms/step - loss: 0.1055 - accuracy: 0.1088 - val_loss: 0.1986 - val_accuracy: 0.0353\n",
      "Epoch 113/500\n",
      "5/5 [==============================] - 1s 294ms/step - loss: 0.1036 - accuracy: 0.1058 - val_loss: 0.1929 - val_accuracy: 0.0353\n",
      "Epoch 114/500\n",
      "5/5 [==============================] - 2s 298ms/step - loss: 0.1042 - accuracy: 0.1031 - val_loss: 0.1969 - val_accuracy: 0.0353\n",
      "Epoch 115/500\n",
      "5/5 [==============================] - 2s 285ms/step - loss: 0.1010 - accuracy: 0.1080 - val_loss: 0.1995 - val_accuracy: 0.0353\n",
      "Epoch 116/500\n"
     ]
    },
    {
     "name": "stdout",
     "output_type": "stream",
     "text": [
      "5/5 [==============================] - 2s 316ms/step - loss: 0.1009 - accuracy: 0.1123 - val_loss: 0.1947 - val_accuracy: 0.0353\n",
      "Epoch 117/500\n",
      "5/5 [==============================] - 2s 298ms/step - loss: 0.1011 - accuracy: 0.1084 - val_loss: 0.1954 - val_accuracy: 0.0353\n",
      "Epoch 118/500\n",
      "5/5 [==============================] - 1s 291ms/step - loss: 0.1002 - accuracy: 0.1101 - val_loss: 0.1963 - val_accuracy: 0.0353\n",
      "Epoch 119/500\n",
      "5/5 [==============================] - 2s 289ms/step - loss: 0.0981 - accuracy: 0.1110 - val_loss: 0.2007 - val_accuracy: 0.0353\n",
      "Epoch 120/500\n",
      "5/5 [==============================] - 2s 327ms/step - loss: 0.0968 - accuracy: 0.1088 - val_loss: 0.1973 - val_accuracy: 0.0353\n",
      "Epoch 121/500\n",
      "5/5 [==============================] - 2s 307ms/step - loss: 0.0965 - accuracy: 0.1097 - val_loss: 0.1966 - val_accuracy: 0.0353\n",
      "Epoch 122/500\n",
      "5/5 [==============================] - 2s 309ms/step - loss: 0.0960 - accuracy: 0.1132 - val_loss: 0.1989 - val_accuracy: 0.0353\n",
      "Epoch 123/500\n",
      "5/5 [==============================] - 1s 288ms/step - loss: 0.0959 - accuracy: 0.1106 - val_loss: 0.1976 - val_accuracy: 0.0353\n",
      "Epoch 124/500\n",
      "5/5 [==============================] - 2s 300ms/step - loss: 0.0963 - accuracy: 0.1106 - val_loss: 0.2007 - val_accuracy: 0.0353\n",
      "Epoch 125/500\n",
      "5/5 [==============================] - 2s 314ms/step - loss: 0.1001 - accuracy: 0.1123 - val_loss: 0.2020 - val_accuracy: 0.0353\n",
      "Epoch 126/500\n",
      "5/5 [==============================] - 1s 291ms/step - loss: 0.0994 - accuracy: 0.1084 - val_loss: 0.1997 - val_accuracy: 0.0353\n",
      "Epoch 127/500\n",
      "5/5 [==============================] - 1s 299ms/step - loss: 0.1000 - accuracy: 0.1075 - val_loss: 0.2033 - val_accuracy: 0.0353\n",
      "Epoch 128/500\n",
      "5/5 [==============================] - 2s 299ms/step - loss: 0.0988 - accuracy: 0.1106 - val_loss: 0.2000 - val_accuracy: 0.0353\n",
      "Epoch 129/500\n",
      "5/5 [==============================] - 2s 290ms/step - loss: 0.0991 - accuracy: 0.1053 - val_loss: 0.1987 - val_accuracy: 0.0353\n",
      "Epoch 130/500\n",
      "5/5 [==============================] - 2s 318ms/step - loss: 0.0999 - accuracy: 0.1080 - val_loss: 0.2016 - val_accuracy: 0.0353\n",
      "Epoch 131/500\n",
      "5/5 [==============================] - 1s 283ms/step - loss: 0.0967 - accuracy: 0.1149 - val_loss: 0.1991 - val_accuracy: 0.0353\n",
      "Epoch 132/500\n",
      "5/5 [==============================] - 2s 321ms/step - loss: 0.0975 - accuracy: 0.1119 - val_loss: 0.2061 - val_accuracy: 0.0353\n",
      "Epoch 133/500\n",
      "5/5 [==============================] - 1s 295ms/step - loss: 0.0983 - accuracy: 0.1075 - val_loss: 0.2072 - val_accuracy: 0.0353\n",
      "Epoch 134/500\n",
      "5/5 [==============================] - 1s 298ms/step - loss: 0.0979 - accuracy: 0.1045 - val_loss: 0.1982 - val_accuracy: 0.0353\n",
      "Epoch 135/500\n",
      "5/5 [==============================] - 2s 300ms/step - loss: 0.0975 - accuracy: 0.1049 - val_loss: 0.2044 - val_accuracy: 0.0353\n",
      "Epoch 136/500\n",
      "5/5 [==============================] - 1s 288ms/step - loss: 0.0974 - accuracy: 0.1049 - val_loss: 0.2034 - val_accuracy: 0.0353\n",
      "Epoch 137/500\n",
      "5/5 [==============================] - 2s 304ms/step - loss: 0.0958 - accuracy: 0.1097 - val_loss: 0.1960 - val_accuracy: 0.0353\n",
      "Epoch 138/500\n",
      "5/5 [==============================] - 2s 313ms/step - loss: 0.0965 - accuracy: 0.1132 - val_loss: 0.2059 - val_accuracy: 0.0353\n",
      "Epoch 139/500\n",
      "5/5 [==============================] - 2s 319ms/step - loss: 0.0976 - accuracy: 0.1058 - val_loss: 0.2003 - val_accuracy: 0.0353\n",
      "Epoch 140/500\n",
      "5/5 [==============================] - 2s 295ms/step - loss: 0.0979 - accuracy: 0.1075 - val_loss: 0.2032 - val_accuracy: 0.0392\n",
      "Epoch 141/500\n",
      "5/5 [==============================] - 2s 287ms/step - loss: 0.0986 - accuracy: 0.1110 - val_loss: 0.2024 - val_accuracy: 0.0353\n",
      "Epoch 142/500\n",
      "5/5 [==============================] - 1s 303ms/step - loss: 0.0965 - accuracy: 0.1097 - val_loss: 0.1950 - val_accuracy: 0.0392\n",
      "Epoch 143/500\n",
      "5/5 [==============================] - 1s 295ms/step - loss: 0.0979 - accuracy: 0.1106 - val_loss: 0.2082 - val_accuracy: 0.0353\n",
      "Epoch 144/500\n",
      "5/5 [==============================] - 1s 306ms/step - loss: 0.0962 - accuracy: 0.1132 - val_loss: 0.2040 - val_accuracy: 0.0353\n",
      "Epoch 145/500\n",
      "5/5 [==============================] - 2s 309ms/step - loss: 0.0953 - accuracy: 0.1128 - val_loss: 0.2034 - val_accuracy: 0.0353\n",
      "Epoch 146/500\n",
      "5/5 [==============================] - 1s 299ms/step - loss: 0.0949 - accuracy: 0.1049 - val_loss: 0.2101 - val_accuracy: 0.0353\n",
      "Epoch 147/500\n",
      "5/5 [==============================] - 2s 301ms/step - loss: 0.0953 - accuracy: 0.1049 - val_loss: 0.2032 - val_accuracy: 0.0353\n",
      "Epoch 148/500\n",
      "5/5 [==============================] - 2s 317ms/step - loss: 0.0941 - accuracy: 0.1088 - val_loss: 0.2099 - val_accuracy: 0.0353\n",
      "Epoch 149/500\n",
      "5/5 [==============================] - 1s 298ms/step - loss: 0.0938 - accuracy: 0.1084 - val_loss: 0.2069 - val_accuracy: 0.0314\n",
      "Epoch 150/500\n",
      "5/5 [==============================] - 2s 302ms/step - loss: 0.0938 - accuracy: 0.1084 - val_loss: 0.2029 - val_accuracy: 0.0353\n",
      "Epoch 151/500\n",
      "5/5 [==============================] - 2s 374ms/step - loss: 0.0934 - accuracy: 0.1084 - val_loss: 0.2052 - val_accuracy: 0.0353\n",
      "Epoch 152/500\n",
      "5/5 [==============================] - 2s 308ms/step - loss: 0.0936 - accuracy: 0.1097 - val_loss: 0.2050 - val_accuracy: 0.0314\n",
      "Epoch 153/500\n",
      "5/5 [==============================] - 3s 598ms/step - loss: 0.0940 - accuracy: 0.1066 - val_loss: 0.2085 - val_accuracy: 0.0353\n",
      "Epoch 154/500\n",
      "5/5 [==============================] - 2s 348ms/step - loss: 0.0931 - accuracy: 0.1049 - val_loss: 0.2103 - val_accuracy: 0.0353\n",
      "Epoch 155/500\n",
      "5/5 [==============================] - 2s 320ms/step - loss: 0.0926 - accuracy: 0.1115 - val_loss: 0.2095 - val_accuracy: 0.0353\n",
      "Epoch 156/500\n",
      "5/5 [==============================] - 2s 365ms/step - loss: 0.0939 - accuracy: 0.1115 - val_loss: 0.2012 - val_accuracy: 0.0353\n",
      "Epoch 157/500\n",
      "5/5 [==============================] - 2s 320ms/step - loss: 0.0950 - accuracy: 0.1010 - val_loss: 0.2036 - val_accuracy: 0.0353\n",
      "Epoch 158/500\n",
      "5/5 [==============================] - 2s 373ms/step - loss: 0.0963 - accuracy: 0.1053 - val_loss: 0.2097 - val_accuracy: 0.0353\n",
      "Epoch 159/500\n",
      "2/5 [===========>..................] - ETA: 0s - loss: 0.0931 - accuracy: 0.1162"
     ]
    },
    {
     "ename": "KeyboardInterrupt",
     "evalue": "",
     "output_type": "error",
     "traceback": [
      "\u001b[0;31m\u001b[0m",
      "\u001b[0;31mKeyboardInterrupt\u001b[0mTraceback (most recent call last)",
      "\u001b[0;32m<ipython-input-19-7f3cb95f772a>\u001b[0m in \u001b[0;36m<module>\u001b[0;34m\u001b[0m\n\u001b[1;32m      4\u001b[0m                      \u001b[0mverbose\u001b[0m\u001b[0;34m=\u001b[0m\u001b[0;36m1\u001b[0m\u001b[0;34m,\u001b[0m\u001b[0;34m\u001b[0m\u001b[0;34m\u001b[0m\u001b[0m\n\u001b[1;32m      5\u001b[0m \u001b[0;31m#                      callbacks=[cp_callback],\u001b[0m\u001b[0;34m\u001b[0m\u001b[0;34m\u001b[0m\u001b[0;34m\u001b[0m\u001b[0m\n\u001b[0;32m----> 6\u001b[0;31m                     \u001b[0muse_multiprocessing\u001b[0m\u001b[0;34m=\u001b[0m\u001b[0;32mTrue\u001b[0m\u001b[0;34m\u001b[0m\u001b[0;34m\u001b[0m\u001b[0m\n\u001b[0m\u001b[1;32m      7\u001b[0m                    )\n",
      "\u001b[0;32m/usr/local/lib/python3.6/dist-packages/tensorflow/python/keras/engine/training.py\u001b[0m in \u001b[0;36mfit\u001b[0;34m(self, x, y, batch_size, epochs, verbose, callbacks, validation_split, validation_data, shuffle, class_weight, sample_weight, initial_epoch, steps_per_epoch, validation_steps, validation_batch_size, validation_freq, max_queue_size, workers, use_multiprocessing)\u001b[0m\n\u001b[1;32m   1098\u001b[0m                 _r=1):\n\u001b[1;32m   1099\u001b[0m               \u001b[0mcallbacks\u001b[0m\u001b[0;34m.\u001b[0m\u001b[0mon_train_batch_begin\u001b[0m\u001b[0;34m(\u001b[0m\u001b[0mstep\u001b[0m\u001b[0;34m)\u001b[0m\u001b[0;34m\u001b[0m\u001b[0;34m\u001b[0m\u001b[0m\n\u001b[0;32m-> 1100\u001b[0;31m               \u001b[0mtmp_logs\u001b[0m \u001b[0;34m=\u001b[0m \u001b[0mself\u001b[0m\u001b[0;34m.\u001b[0m\u001b[0mtrain_function\u001b[0m\u001b[0;34m(\u001b[0m\u001b[0miterator\u001b[0m\u001b[0;34m)\u001b[0m\u001b[0;34m\u001b[0m\u001b[0;34m\u001b[0m\u001b[0m\n\u001b[0m\u001b[1;32m   1101\u001b[0m               \u001b[0;32mif\u001b[0m \u001b[0mdata_handler\u001b[0m\u001b[0;34m.\u001b[0m\u001b[0mshould_sync\u001b[0m\u001b[0;34m:\u001b[0m\u001b[0;34m\u001b[0m\u001b[0;34m\u001b[0m\u001b[0m\n\u001b[1;32m   1102\u001b[0m                 \u001b[0mcontext\u001b[0m\u001b[0;34m.\u001b[0m\u001b[0masync_wait\u001b[0m\u001b[0;34m(\u001b[0m\u001b[0;34m)\u001b[0m\u001b[0;34m\u001b[0m\u001b[0;34m\u001b[0m\u001b[0m\n",
      "\u001b[0;32m/usr/local/lib/python3.6/dist-packages/tensorflow/python/eager/def_function.py\u001b[0m in \u001b[0;36m__call__\u001b[0;34m(self, *args, **kwds)\u001b[0m\n\u001b[1;32m    826\u001b[0m     \u001b[0mtracing_count\u001b[0m \u001b[0;34m=\u001b[0m \u001b[0mself\u001b[0m\u001b[0;34m.\u001b[0m\u001b[0mexperimental_get_tracing_count\u001b[0m\u001b[0;34m(\u001b[0m\u001b[0;34m)\u001b[0m\u001b[0;34m\u001b[0m\u001b[0;34m\u001b[0m\u001b[0m\n\u001b[1;32m    827\u001b[0m     \u001b[0;32mwith\u001b[0m \u001b[0mtrace\u001b[0m\u001b[0;34m.\u001b[0m\u001b[0mTrace\u001b[0m\u001b[0;34m(\u001b[0m\u001b[0mself\u001b[0m\u001b[0;34m.\u001b[0m\u001b[0m_name\u001b[0m\u001b[0;34m)\u001b[0m \u001b[0;32mas\u001b[0m \u001b[0mtm\u001b[0m\u001b[0;34m:\u001b[0m\u001b[0;34m\u001b[0m\u001b[0;34m\u001b[0m\u001b[0m\n\u001b[0;32m--> 828\u001b[0;31m       \u001b[0mresult\u001b[0m \u001b[0;34m=\u001b[0m \u001b[0mself\u001b[0m\u001b[0;34m.\u001b[0m\u001b[0m_call\u001b[0m\u001b[0;34m(\u001b[0m\u001b[0;34m*\u001b[0m\u001b[0margs\u001b[0m\u001b[0;34m,\u001b[0m \u001b[0;34m**\u001b[0m\u001b[0mkwds\u001b[0m\u001b[0;34m)\u001b[0m\u001b[0;34m\u001b[0m\u001b[0;34m\u001b[0m\u001b[0m\n\u001b[0m\u001b[1;32m    829\u001b[0m       \u001b[0mcompiler\u001b[0m \u001b[0;34m=\u001b[0m \u001b[0;34m\"xla\"\u001b[0m \u001b[0;32mif\u001b[0m \u001b[0mself\u001b[0m\u001b[0;34m.\u001b[0m\u001b[0m_experimental_compile\u001b[0m \u001b[0;32melse\u001b[0m \u001b[0;34m\"nonXla\"\u001b[0m\u001b[0;34m\u001b[0m\u001b[0;34m\u001b[0m\u001b[0m\n\u001b[1;32m    830\u001b[0m       \u001b[0mnew_tracing_count\u001b[0m \u001b[0;34m=\u001b[0m \u001b[0mself\u001b[0m\u001b[0;34m.\u001b[0m\u001b[0mexperimental_get_tracing_count\u001b[0m\u001b[0;34m(\u001b[0m\u001b[0;34m)\u001b[0m\u001b[0;34m\u001b[0m\u001b[0;34m\u001b[0m\u001b[0m\n",
      "\u001b[0;32m/usr/local/lib/python3.6/dist-packages/tensorflow/python/eager/def_function.py\u001b[0m in \u001b[0;36m_call\u001b[0;34m(self, *args, **kwds)\u001b[0m\n\u001b[1;32m    853\u001b[0m       \u001b[0;31m# In this case we have created variables on the first call, so we run the\u001b[0m\u001b[0;34m\u001b[0m\u001b[0;34m\u001b[0m\u001b[0;34m\u001b[0m\u001b[0m\n\u001b[1;32m    854\u001b[0m       \u001b[0;31m# defunned version which is guaranteed to never create variables.\u001b[0m\u001b[0;34m\u001b[0m\u001b[0;34m\u001b[0m\u001b[0;34m\u001b[0m\u001b[0m\n\u001b[0;32m--> 855\u001b[0;31m       \u001b[0;32mreturn\u001b[0m \u001b[0mself\u001b[0m\u001b[0;34m.\u001b[0m\u001b[0m_stateless_fn\u001b[0m\u001b[0;34m(\u001b[0m\u001b[0;34m*\u001b[0m\u001b[0margs\u001b[0m\u001b[0;34m,\u001b[0m \u001b[0;34m**\u001b[0m\u001b[0mkwds\u001b[0m\u001b[0;34m)\u001b[0m  \u001b[0;31m# pylint: disable=not-callable\u001b[0m\u001b[0;34m\u001b[0m\u001b[0;34m\u001b[0m\u001b[0m\n\u001b[0m\u001b[1;32m    856\u001b[0m     \u001b[0;32melif\u001b[0m \u001b[0mself\u001b[0m\u001b[0;34m.\u001b[0m\u001b[0m_stateful_fn\u001b[0m \u001b[0;32mis\u001b[0m \u001b[0;32mnot\u001b[0m \u001b[0;32mNone\u001b[0m\u001b[0;34m:\u001b[0m\u001b[0;34m\u001b[0m\u001b[0;34m\u001b[0m\u001b[0m\n\u001b[1;32m    857\u001b[0m       \u001b[0;31m# Release the lock early so that multiple threads can perform the call\u001b[0m\u001b[0;34m\u001b[0m\u001b[0;34m\u001b[0m\u001b[0;34m\u001b[0m\u001b[0m\n",
      "\u001b[0;32m/usr/local/lib/python3.6/dist-packages/tensorflow/python/eager/function.py\u001b[0m in \u001b[0;36m__call__\u001b[0;34m(self, *args, **kwargs)\u001b[0m\n\u001b[1;32m   2941\u001b[0m        filtered_flat_args) = self._maybe_define_function(args, kwargs)\n\u001b[1;32m   2942\u001b[0m     return graph_function._call_flat(\n\u001b[0;32m-> 2943\u001b[0;31m         filtered_flat_args, captured_inputs=graph_function.captured_inputs)  # pylint: disable=protected-access\n\u001b[0m\u001b[1;32m   2944\u001b[0m \u001b[0;34m\u001b[0m\u001b[0m\n\u001b[1;32m   2945\u001b[0m   \u001b[0;34m@\u001b[0m\u001b[0mproperty\u001b[0m\u001b[0;34m\u001b[0m\u001b[0;34m\u001b[0m\u001b[0m\n",
      "\u001b[0;32m/usr/local/lib/python3.6/dist-packages/tensorflow/python/eager/function.py\u001b[0m in \u001b[0;36m_call_flat\u001b[0;34m(self, args, captured_inputs, cancellation_manager)\u001b[0m\n\u001b[1;32m   1917\u001b[0m       \u001b[0;31m# No tape is watching; skip to running the function.\u001b[0m\u001b[0;34m\u001b[0m\u001b[0;34m\u001b[0m\u001b[0;34m\u001b[0m\u001b[0m\n\u001b[1;32m   1918\u001b[0m       return self._build_call_outputs(self._inference_function.call(\n\u001b[0;32m-> 1919\u001b[0;31m           ctx, args, cancellation_manager=cancellation_manager))\n\u001b[0m\u001b[1;32m   1920\u001b[0m     forward_backward = self._select_forward_and_backward_functions(\n\u001b[1;32m   1921\u001b[0m         \u001b[0margs\u001b[0m\u001b[0;34m,\u001b[0m\u001b[0;34m\u001b[0m\u001b[0;34m\u001b[0m\u001b[0m\n",
      "\u001b[0;32m/usr/local/lib/python3.6/dist-packages/tensorflow/python/eager/function.py\u001b[0m in \u001b[0;36mcall\u001b[0;34m(self, ctx, args, cancellation_manager)\u001b[0m\n\u001b[1;32m    558\u001b[0m               \u001b[0minputs\u001b[0m\u001b[0;34m=\u001b[0m\u001b[0margs\u001b[0m\u001b[0;34m,\u001b[0m\u001b[0;34m\u001b[0m\u001b[0;34m\u001b[0m\u001b[0m\n\u001b[1;32m    559\u001b[0m               \u001b[0mattrs\u001b[0m\u001b[0;34m=\u001b[0m\u001b[0mattrs\u001b[0m\u001b[0;34m,\u001b[0m\u001b[0;34m\u001b[0m\u001b[0;34m\u001b[0m\u001b[0m\n\u001b[0;32m--> 560\u001b[0;31m               ctx=ctx)\n\u001b[0m\u001b[1;32m    561\u001b[0m         \u001b[0;32melse\u001b[0m\u001b[0;34m:\u001b[0m\u001b[0;34m\u001b[0m\u001b[0;34m\u001b[0m\u001b[0m\n\u001b[1;32m    562\u001b[0m           outputs = execute.execute_with_cancellation(\n",
      "\u001b[0;32m/usr/local/lib/python3.6/dist-packages/tensorflow/python/eager/execute.py\u001b[0m in \u001b[0;36mquick_execute\u001b[0;34m(op_name, num_outputs, inputs, attrs, ctx, name)\u001b[0m\n\u001b[1;32m     58\u001b[0m     \u001b[0mctx\u001b[0m\u001b[0;34m.\u001b[0m\u001b[0mensure_initialized\u001b[0m\u001b[0;34m(\u001b[0m\u001b[0;34m)\u001b[0m\u001b[0;34m\u001b[0m\u001b[0;34m\u001b[0m\u001b[0m\n\u001b[1;32m     59\u001b[0m     tensors = pywrap_tfe.TFE_Py_Execute(ctx._handle, device_name, op_name,\n\u001b[0;32m---> 60\u001b[0;31m                                         inputs, attrs, num_outputs)\n\u001b[0m\u001b[1;32m     61\u001b[0m   \u001b[0;32mexcept\u001b[0m \u001b[0mcore\u001b[0m\u001b[0;34m.\u001b[0m\u001b[0m_NotOkStatusException\u001b[0m \u001b[0;32mas\u001b[0m \u001b[0me\u001b[0m\u001b[0;34m:\u001b[0m\u001b[0;34m\u001b[0m\u001b[0;34m\u001b[0m\u001b[0m\n\u001b[1;32m     62\u001b[0m     \u001b[0;32mif\u001b[0m \u001b[0mname\u001b[0m \u001b[0;32mis\u001b[0m \u001b[0;32mnot\u001b[0m \u001b[0;32mNone\u001b[0m\u001b[0;34m:\u001b[0m\u001b[0;34m\u001b[0m\u001b[0;34m\u001b[0m\u001b[0m\n",
      "\u001b[0;31mKeyboardInterrupt\u001b[0m: "
     ]
    }
   ],
   "source": [
    "history = model.fit(x=ff,y=Y,\n",
    "                    epochs=500,batch_size=512,\n",
    "                    validation_split=0.1,\n",
    "                     verbose=1,\n",
    "#                      callbacks=[cp_callback],\n",
    "                    use_multiprocessing=True\n",
    "                   )"
   ]
  },
  {
   "cell_type": "code",
   "execution_count": 20,
   "metadata": {},
   "outputs": [
    {
     "name": "stdout",
     "output_type": "stream",
     "text": [
      "80/80 [==============================] - 1s 12ms/step - loss: 0.1040 - accuracy: 0.1015\n"
     ]
    },
    {
     "data": {
      "image/png": "[encoded data removed]",
      "text/plain": [
       "<Figure size 432x288 with 1 Axes>"
      ]
     },
     "metadata": {
      "needs_background": "light"
     },
     "output_type": "display_data"
    },
    {
     "data": {
      "image/png": "[encoded data removed]",
      "text/plain": [
       "<Figure size 432x288 with 1 Axes>"
      ]
     },
     "metadata": {
      "needs_background": "light"
     },
     "output_type": "display_data"
    }
   ],
   "source": [
    "model.evaluate(ff,Y)\n",
    "plotHistory(history)"
   ]
  },
  {
   "cell_type": "code",
   "execution_count": 21,
   "metadata": {},
   "outputs": [],
   "source": [
    "# model.load_weights(checkpoint_path)\n",
    "model.save_weights(checkpoint_path)\n"
   ]
  },
  {
   "cell_type": "code",
   "execution_count": 21,
   "metadata": {},
   "outputs": [
    {
     "name": "stdout",
     "output_type": "stream",
     "text": [
      "5076 2543 1.9960676366496264 0.043392774709774484\n",
      "0.043392774709774484\n"
     ]
    }
   ],
   "source": [
    "all_predict=model.predict(ff[:])\n",
    "error_matrix=(np.absolute(Y - all_predict) > .5).astype(int)\n",
    "_total = error_matrix.sum()\n",
    "print(_total, len(Y), _total / len(Y), _total / len(Y) / len(Y[0]))\n",
    "print(np.average(error_matrix.sum(axis=1) / len(Y[0])))"
   ]
  },
  {
   "cell_type": "code",
   "execution_count": 37,
   "metadata": {},
   "outputs": [
    {
     "name": "stdout",
     "output_type": "stream",
     "text": [
      "Wrong: 4685 2543 Wrong in row: 1.8423122296500196 0.0028786128588281557\n"
     ]
    }
   ],
   "source": [
    "full_expect = raw_data[raw_data.columns[1:(len(raw_data.columns)-1)]]\n",
    "np_pred = (all_predict > 0.5).astype(int)\n",
    "full_predict = full_expect.copy()\n",
    "for idx, name in enumerate (_cat_list) :\n",
    "    full_predict[name] = np_pred[:,idx]\n",
    "full_predict = full_predict[full_expect.columns]\n",
    "full_error=np.absolute(np.array(full_expect) - np.array(full_predict))\n",
    "_total = full_error.sum()\n",
    "print('Wrong:', _total, len(full_error), 'Wrong in row:', _total / len(full_error), _total / len(full_error) / len(full_error[0]))"
   ]
  },
  {
   "cell_type": "code",
   "execution_count": 17,
   "metadata": {},
   "outputs": [
    {
     "name": "stderr",
     "output_type": "stream",
     "text": [
      "/usr/local/lib/python3.6/dist-packages/tensorflowjs/converters/keras_h5_conversion.py:123: H5pyDeprecationWarning: The default file mode will change to 'r' (read-only) in h5py 3.0. To suppress this warning, pass the mode you need to h5py.File(), or set the global default h5.get_config().default_file_mode, or set the environment variable H5PY_DEFAULT_READONLY=1. Available modes are: 'r', 'r+', 'w', 'w-'/'x', 'a'. See the docs for details.\n",
      "  return h5py.File(h5file)\n"
     ]
    }
   ],
   "source": [
    "import tensorflowjs as tfjs\n",
    "\n",
    "tfjs.converters.save_keras_model(model, '../checkpoint/js')"
   ]
  }
 ],
 "metadata": {
  "kernelspec": {
   "display_name": "Python 3",
   "language": "python",
   "name": "python3"
  },
  "language_info": {
   "codemirror_mode": {
    "name": "ipython",
    "version": 3
   },
   "file_extension": ".py",
   "mimetype": "text/x-python",
   "name": "python",
   "nbconvert_exporter": "python",
   "pygments_lexer": "ipython3",
   "version": "3.6.9"
  }
 },
 "nbformat": 4,
 "nbformat_minor": 2
}
